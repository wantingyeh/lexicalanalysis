{
 "cells": [
  {
   "cell_type": "markdown",
   "id": "ebd0d82a-5646-49c9-a0c1-16a379f66bda",
   "metadata": {},
   "source": [
    "# Frequency table\n",
    "\n",
    "date: 01-03-2023 \\\n",
    "written by: Wan-Ting Yeh\n",
    "\n",
    "create a table that contains\n",
    "1. unique words\n",
    "2. count of the unique words"
   ]
  },
  {
   "cell_type": "code",
   "execution_count": 2,
   "id": "26ca21c6-09f0-4d55-93bc-7df17f235141",
   "metadata": {},
   "outputs": [],
   "source": [
    "import pandas as pd\n",
    "from collections import Counter\n",
    "import re"
   ]
  },
  {
   "cell_type": "code",
   "execution_count": 3,
   "id": "10ca6216-0773-4df7-a828-a6457cab80d9",
   "metadata": {},
   "outputs": [],
   "source": [
    "# Load the CSV file into a Pandas dataframe\n",
    "df = pd.read_csv('test_frequencytable.csv')"
   ]
  },
  {
   "cell_type": "code",
   "execution_count": 4,
   "id": "c6cc46c3-f31e-4312-99f2-42514ca78c8c",
   "metadata": {},
   "outputs": [],
   "source": [
    "# Combine all the text from the 'text' column into a single string\n",
    "text = ' '.join(df['text'])"
   ]
  },
  {
   "cell_type": "code",
   "execution_count": 5,
   "id": "d4930ed9-8dcf-4cfd-a4ed-3e86c8d32207",
   "metadata": {},
   "outputs": [],
   "source": [
    "# Use regular expressions to split the text into individual words\n",
    "words = re.findall(r\"\\b\\w+(?:'\\w+)?\\b\", text)"
   ]
  },
  {
   "cell_type": "code",
   "execution_count": 6,
   "id": "ee3c5c04-0379-4a58-a4e2-cdb4920422cc",
   "metadata": {},
   "outputs": [],
   "source": [
    "# Convert all the words to lowercase for consistency\n",
    "words = [word.lower() for word in words]\n",
    "\n",
    "# Use the Counter class from the collections module to count the occurrences of each word\n",
    "word_counts = Counter(words)"
   ]
  },
  {
   "cell_type": "code",
   "execution_count": 7,
   "id": "691000ea-b583-460b-a6b6-8844c23a74d8",
   "metadata": {},
   "outputs": [],
   "source": [
    "# Create a new dataframe to store the word frequency table\n",
    "freq_df = pd.DataFrame.from_dict(word_counts, orient='index', columns=['count'])\n",
    "\n",
    "# Sort the dataframe by the count column in descending order\n",
    "# freq_df = freq_df.sort_values(by='count', ascending=False)\n",
    "\n",
    "# Sort the dataframe by the index (unique word) in alphabetical order\n",
    "freq_df = freq_df.sort_index()"
   ]
  },
  {
   "cell_type": "code",
   "execution_count": 8,
   "id": "96087ec5-073f-4d15-b0e2-752b38674d36",
   "metadata": {},
   "outputs": [
    {
     "name": "stdout",
     "output_type": "stream",
     "text": [
      "            count\n",
      "again           1\n",
      "at              1\n",
      "blicket         1\n",
      "bliiiicket      1\n",
      "called          1\n",
      "childname       1\n",
      "do              1\n",
      "doing           1\n",
      "done            1\n",
      "here            1\n",
      "heyyy           1\n",
      "i'd             1\n",
      "i'm             1\n",
      "is              2\n",
      "let's           1\n",
      "like            1\n",
      "look            1\n",
      "me              1\n",
      "move            1\n",
      "play            1\n",
      "playing         1\n",
      "see             1\n",
      "so              1\n",
      "the             1\n",
      "this            2\n",
      "to              2\n",
      "want            1\n",
      "well            2\n",
      "whaaaaat        1\n",
      "with            1\n",
      "you             3\n",
      "you're          1\n"
     ]
    }
   ],
   "source": [
    "# Print the dataframe\n",
    "print(freq_df.head(50))"
   ]
  }
 ],
 "metadata": {
  "kernelspec": {
   "display_name": "Python 3",
   "language": "python",
   "name": "python3"
  },
  "language_info": {
   "codemirror_mode": {
    "name": "ipython",
    "version": 3
   },
   "file_extension": ".py",
   "mimetype": "text/x-python",
   "name": "python",
   "nbconvert_exporter": "python",
   "pygments_lexer": "ipython3",
   "version": "3.8.8"
  }
 },
 "nbformat": 4,
 "nbformat_minor": 5
}
